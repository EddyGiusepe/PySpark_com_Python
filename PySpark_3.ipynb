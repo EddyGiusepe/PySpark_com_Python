{
 "cells": [
  {
   "cell_type": "markdown",
   "id": "3c8348c7",
   "metadata": {},
   "source": [
    "###  Data Scientist Jr.: Dr.Eddy Giusepe Chirinos Isidro\n"
   ]
  },
  {
   "cell_type": "markdown",
   "id": "a6cb20f3",
   "metadata": {},
   "source": [
    "#### <font color=\"orange\">PySpark handling missing values</font>\n",
    "\n",
    "* Dropping columns\n",
    "* Dropping rows\n",
    "* Various parameter in Dropping functionalities\n",
    "* Handling missing values by ``mean``, ``median`` and ``mode``"
   ]
  },
  {
   "cell_type": "code",
   "execution_count": 1,
   "id": "675a3d67",
   "metadata": {},
   "outputs": [],
   "source": [
    "from pyspark.sql import SparkSession"
   ]
  },
  {
   "cell_type": "code",
   "execution_count": 2,
   "id": "3324161e",
   "metadata": {},
   "outputs": [
    {
     "name": "stderr",
     "output_type": "stream",
     "text": [
      "22/03/02 00:52:45 WARN Utils: Your hostname, eddygiusepe resolves to a loopback address: 127.0.1.1; using 192.168.1.122 instead (on interface wlp0s20f3)\n",
      "22/03/02 00:52:45 WARN Utils: Set SPARK_LOCAL_IP if you need to bind to another address\n",
      "WARNING: An illegal reflective access operation has occurred\n",
      "WARNING: Illegal reflective access by org.apache.spark.unsafe.Platform (file:/home/eddygiusepe/.local/lib/python3.8/site-packages/pyspark/jars/spark-unsafe_2.12-3.2.1.jar) to constructor java.nio.DirectByteBuffer(long,int)\n",
      "WARNING: Please consider reporting this to the maintainers of org.apache.spark.unsafe.Platform\n",
      "WARNING: Use --illegal-access=warn to enable warnings of further illegal reflective access operations\n",
      "WARNING: All illegal access operations will be denied in a future release\n",
      "Using Spark's default log4j profile: org/apache/spark/log4j-defaults.properties\n",
      "Setting default log level to \"WARN\".\n",
      "To adjust logging level use sc.setLogLevel(newLevel). For SparkR, use setLogLevel(newLevel).\n",
      "22/03/02 00:52:45 WARN NativeCodeLoader: Unable to load native-hadoop library for your platform... using builtin-java classes where applicable\n",
      "22/03/02 00:52:46 WARN Utils: Service 'SparkUI' could not bind on port 4040. Attempting port 4041.\n",
      "22/03/02 00:52:46 WARN Utils: Service 'SparkUI' could not bind on port 4041. Attempting port 4042.\n",
      "22/03/02 00:52:46 WARN Utils: Service 'SparkUI' could not bind on port 4042. Attempting port 4043.\n"
     ]
    }
   ],
   "source": [
    "spark = SparkSession.builder.appName('Practise').getOrCreate();"
   ]
  },
  {
   "cell_type": "code",
   "execution_count": 4,
   "id": "99629379",
   "metadata": {},
   "outputs": [
    {
     "name": "stdout",
     "output_type": "stream",
     "text": [
      "+---------+----+----------+------+\n",
      "|     Name| age|Experience|Salary|\n",
      "+---------+----+----------+------+\n",
      "|    Krish|  31|        10| 30000|\n",
      "|Sudhanshu|  30|         8| 25000|\n",
      "|    Sunny|  29|         4| 20000|\n",
      "|     Paul|  24|         3| 20000|\n",
      "|   Harsha|  21|         1| 15000|\n",
      "|  Shubham|  23|         2| 18000|\n",
      "|   Mahesh|null|      null| 40000|\n",
      "|     null|  34|        10| 38000|\n",
      "|     null|  36|      null|  null|\n",
      "+---------+----+----------+------+\n",
      "\n"
     ]
    }
   ],
   "source": [
    "df_pyspark = spark.read.csv('test2.csv', header = True, inferSchema = True)\n",
    "df_pyspark.show()"
   ]
  },
  {
   "cell_type": "markdown",
   "id": "391079e2",
   "metadata": {},
   "source": [
    "#### <font color=\"orange\">Dropping the columns</font>"
   ]
  },
  {
   "cell_type": "code",
   "execution_count": null,
   "id": "c689057a",
   "metadata": {},
   "outputs": [],
   "source": [
    "df_pyspark.drop('Name').show()"
   ]
  },
  {
   "cell_type": "markdown",
   "id": "182890ff",
   "metadata": {},
   "source": [
    "#### <font color=\"orange\">Dropping any rows based on the null values and using: all, any, subset ... </font>"
   ]
  },
  {
   "cell_type": "code",
   "execution_count": null,
   "id": "2ec9a5e5",
   "metadata": {},
   "outputs": [],
   "source": [
    "df_pyspark.show()"
   ]
  },
  {
   "cell_type": "code",
   "execution_count": null,
   "id": "2c82c4c1",
   "metadata": {},
   "outputs": [],
   "source": [
    "# Eliminando rows\n",
    "\n",
    "df_pyspark.na.drop().show()"
   ]
  },
  {
   "cell_type": "code",
   "execution_count": null,
   "id": "3aff26ed",
   "metadata": {},
   "outputs": [],
   "source": [
    "df_pyspark.show()"
   ]
  },
  {
   "cell_type": "code",
   "execution_count": null,
   "id": "62163328",
   "metadata": {},
   "outputs": [],
   "source": [
    "# Can drop an row when everything are NULL with the word: \"ALL\"]\n",
    "\n",
    "df_pyspark.na.drop(how = 'all').show()"
   ]
  },
  {
   "cell_type": "code",
   "execution_count": null,
   "id": "560994ae",
   "metadata": {},
   "outputs": [],
   "source": [
    "# Usando ANY\n",
    "df_pyspark.na.drop(how = 'any').show()"
   ]
  },
  {
   "cell_type": "code",
   "execution_count": null,
   "id": "48200934",
   "metadata": {},
   "outputs": [],
   "source": [
    "# Pelo menos dois valores não nulos (para este caso) \n",
    "\n",
    "df_pyspark.na.drop(how = \"any\", thresh = 2).show()"
   ]
  },
  {
   "cell_type": "code",
   "execution_count": null,
   "id": "366da2f0",
   "metadata": {},
   "outputs": [],
   "source": [
    "df_pyspark.show() # Para comparar com o seguinte método"
   ]
  },
  {
   "cell_type": "code",
   "execution_count": null,
   "id": "2e9e6f0d",
   "metadata": {},
   "outputs": [],
   "source": [
    "# Usando SUBSET\n",
    "\n",
    "df_pyspark.na.drop(how = \"any\", subset = [\"Experience\"]).show()"
   ]
  },
  {
   "cell_type": "markdown",
   "id": "29d43e20",
   "metadata": {},
   "source": [
    "#### <font color=\"orange\">Filling the missing value</font>\n"
   ]
  },
  {
   "cell_type": "code",
   "execution_count": null,
   "id": "1b76d4c8",
   "metadata": {
    "collapsed": true
   },
   "outputs": [],
   "source": []
  },
  {
   "cell_type": "code",
   "execution_count": 5,
   "id": "fe26b771",
   "metadata": {},
   "outputs": [
    {
     "name": "stdout",
     "output_type": "stream",
     "text": [
      "+---------+----+----------+------+\n",
      "|     Name| age|Experience|Salary|\n",
      "+---------+----+----------+------+\n",
      "|    Krish|  31|        10| 30000|\n",
      "|Sudhanshu|  30|         8| 25000|\n",
      "|    Sunny|  29|         4| 20000|\n",
      "|     Paul|  24|         3| 20000|\n",
      "|   Harsha|  21|         1| 15000|\n",
      "|  Shubham|  23|         2| 18000|\n",
      "|   Mahesh|null|      null| 40000|\n",
      "|     null|  34|        10| 38000|\n",
      "|     null|  36|      null|  null|\n",
      "+---------+----+----------+------+\n",
      "\n"
     ]
    }
   ],
   "source": [
    "df_pyspark.show()"
   ]
  },
  {
   "cell_type": "code",
   "execution_count": 22,
   "id": "4f151098",
   "metadata": {},
   "outputs": [
    {
     "name": "stdout",
     "output_type": "stream",
     "text": [
      "+-------------+---+----------+------+\n",
      "|         Name|age|Experience|Salary|\n",
      "+-------------+---+----------+------+\n",
      "|        Krish| 31|        10| 30000|\n",
      "|    Sudhanshu| 30|         8| 25000|\n",
      "|        Sunny| 29|         4| 20000|\n",
      "|         Paul| 24|         3| 20000|\n",
      "|       Harsha| 21|         1| 15000|\n",
      "|      Shubham| 23|         2| 18000|\n",
      "|       Mahesh| 40|        40| 40000|\n",
      "|Missing value| 34|        10| 38000|\n",
      "|Missing value| 36|        40|  4000|\n",
      "+-------------+---+----------+------+\n",
      "\n"
     ]
    }
   ],
   "source": [
    "# Ter cuidado na hora de preencher: temos Dados \"string\" e \"inteiros\"\n",
    "\n",
    "df_pyspark.na.fill({'Name': \"Missing value\", 'age':40, 'Experience':40, 'Salary':4000}).show()"
   ]
  },
  {
   "cell_type": "code",
   "execution_count": 23,
   "id": "76b659fe",
   "metadata": {},
   "outputs": [
    {
     "name": "stdout",
     "output_type": "stream",
     "text": [
      "+---------+----+----------+------+\n",
      "|     Name| age|Experience|Salary|\n",
      "+---------+----+----------+------+\n",
      "|    Krish|  31|        10| 30000|\n",
      "|Sudhanshu|  30|         8| 25000|\n",
      "|    Sunny|  29|         4| 20000|\n",
      "|     Paul|  24|         3| 20000|\n",
      "|   Harsha|  21|         1| 15000|\n",
      "|  Shubham|  23|         2| 18000|\n",
      "|   Mahesh|null|      null| 40000|\n",
      "|     null|  34|        10| 38000|\n",
      "|     null|  36|      null|  null|\n",
      "+---------+----+----------+------+\n",
      "\n"
     ]
    }
   ],
   "source": [
    "# Agora vamos a preencher os va,os \"null\" pela mean, \"midian\" ou \"mode\"\n",
    "\n",
    "df_pyspark.show()"
   ]
  },
  {
   "cell_type": "code",
   "execution_count": 29,
   "id": "6003ba89",
   "metadata": {},
   "outputs": [],
   "source": [
    "from pyspark.ml.feature import Imputer\n"
   ]
  },
  {
   "cell_type": "code",
   "execution_count": 25,
   "id": "6cb1e4d1",
   "metadata": {},
   "outputs": [],
   "source": [
    "# Pode trocar mean --> midian --> mode\n",
    "\n",
    "imputer = Imputer(inputCols=['age', 'Experience', 'Salary'],\n",
    "                  outputCols=[\"{}_imputed\".format(c) for c in ['age', 'Experience', 'Salary']]).setStrategy('mean')"
   ]
  },
  {
   "cell_type": "code",
   "execution_count": 26,
   "id": "fe38f168",
   "metadata": {},
   "outputs": [
    {
     "name": "stdout",
     "output_type": "stream",
     "text": [
      "+---------+----+----------+------+-----------+------------------+--------------+\n",
      "|     Name| age|Experience|Salary|age_imputed|Experience_imputed|Salary_imputed|\n",
      "+---------+----+----------+------+-----------+------------------+--------------+\n",
      "|    Krish|  31|        10| 30000|         31|                10|         30000|\n",
      "|Sudhanshu|  30|         8| 25000|         30|                 8|         25000|\n",
      "|    Sunny|  29|         4| 20000|         29|                 4|         20000|\n",
      "|     Paul|  24|         3| 20000|         24|                 3|         20000|\n",
      "|   Harsha|  21|         1| 15000|         21|                 1|         15000|\n",
      "|  Shubham|  23|         2| 18000|         23|                 2|         18000|\n",
      "|   Mahesh|null|      null| 40000|         28|                 5|         40000|\n",
      "|     null|  34|        10| 38000|         34|                10|         38000|\n",
      "|     null|  36|      null|  null|         36|                 5|         25750|\n",
      "+---------+----+----------+------+-----------+------------------+--------------+\n",
      "\n"
     ]
    }
   ],
   "source": [
    "# Add imputation cols to df\n",
    "imputer.fit(df_pyspark).transform(df_pyspark).show()"
   ]
  }
 ],
 "metadata": {
  "kernelspec": {
   "display_name": "Python 3 (ipykernel)",
   "language": "python",
   "name": "python3"
  },
  "language_info": {
   "codemirror_mode": {
    "name": "ipython",
    "version": 3
   },
   "file_extension": ".py",
   "mimetype": "text/x-python",
   "name": "python",
   "nbconvert_exporter": "python",
   "pygments_lexer": "ipython3",
   "version": "3.8.10"
  }
 },
 "nbformat": 4,
 "nbformat_minor": 5
}
