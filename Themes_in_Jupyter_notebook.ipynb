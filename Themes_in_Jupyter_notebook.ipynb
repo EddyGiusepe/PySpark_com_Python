{
 "cells": [
  {
   "cell_type": "markdown",
   "id": "6d2239fd",
   "metadata": {},
   "source": [
    "# Data Scientist Jr.: Dr.Eddy Giusepe Chirinos Isidro\n",
    "\n",
    "\n",
    "* Para configurar o autocomplete do Jupyter: [Click aqui](https://www.youtube.com/watch?v=LLio025rKc0&t=104s).\n",
    "\n",
    "* Link para configurar Tema escuro, tamanho de fonte, gráficos, etc: [Python JUPYTER - Tema escuro para notebook](https://www.youtube.com/watch?v=cib6A-OR-Vk)."
   ]
  },
  {
   "cell_type": "markdown",
   "id": "9e7020ed",
   "metadata": {},
   "source": [
    "Temas para nosso Notebook:\n",
    "\n",
    "* [Temas para programar no Jupyter](https://www.hashtagtreinamentos.com/dark-mode-no-jupyter-python#:~:text=Isso%20%C3%A9%20muito%20simples%2C%20basta,aplicado%20para%20come%C3%A7ar%20seus%20c%C3%B3digos!)."
   ]
  },
  {
   "cell_type": "code",
   "execution_count": 1,
   "id": "122a8e2b",
   "metadata": {},
   "outputs": [
    {
     "name": "stdout",
     "output_type": "stream",
     "text": [
      "Available Themes: \r\n",
      "   chesterish\r\n",
      "   grade3\r\n",
      "   gruvboxd\r\n",
      "   gruvboxl\r\n",
      "   monokai\r\n",
      "   oceans16\r\n",
      "   onedork\r\n",
      "   solarizedd\r\n",
      "   solarizedl\r\n"
     ]
    }
   ],
   "source": [
    "# Uma vez instalado os tema, pelo terminal ou pela celula: pip install jupyterthemes\n",
    "# Podemos visualizar os temas instalados:\n",
    "\n",
    "!jt -l"
   ]
  },
  {
   "cell_type": "code",
   "execution_count": null,
   "id": "9a120674",
   "metadata": {},
   "outputs": [],
   "source": [
    "# O seguinte comando é para voltar ao estado original do nosso TEMA\n",
    "\n",
    "!jt -r"
   ]
  },
  {
   "cell_type": "code",
   "execution_count": 18,
   "id": "643c6c1b",
   "metadata": {},
   "outputs": [
    {
     "data": {
      "text/plain": [
       "[1, 2, 3, 4, 5]"
      ]
     },
     "execution_count": 18,
     "metadata": {},
     "output_type": "execute_result"
    }
   ],
   "source": [
    "[1, 2, 3, 4, 5]"
   ]
  },
  {
   "cell_type": "code",
   "execution_count": 32,
   "id": "c57dfdba",
   "metadata": {},
   "outputs": [],
   "source": [
    "# O seguinte comando configura nosso Notebook:\n",
    "\n",
    "!jt -t oceans16 -f fira -fs 9 -nf ptsans -nfs 9 -N -kl -cursw 2 -cursc r -cellw 90% -ofs 9 -dfs 9 -T  "
   ]
  },
  {
   "cell_type": "code",
   "execution_count": 29,
   "id": "5b15a114",
   "metadata": {},
   "outputs": [],
   "source": [
    "# Configurando gráficos:\n",
    "\n",
    "import seaborn as sns\n",
    "from jupyterthemes import jtplot # Para o gráfico sair mais agradável\n"
   ]
  },
  {
   "cell_type": "code",
   "execution_count": 30,
   "id": "51d0e0e5",
   "metadata": {},
   "outputs": [],
   "source": [
    "jtplot.style(theme='oceans16') # Para o gráfico sair agradável"
   ]
  },
  {
   "cell_type": "code",
   "execution_count": 31,
   "id": "c94aea2b",
   "metadata": {},
   "outputs": [
    {
     "data": {
      "text/plain": [
       "<AxesSubplot:xlabel='year', ylabel='passengers'>"
      ]
     },
     "execution_count": 31,
     "metadata": {},
     "output_type": "execute_result"
    },
    {
     "data": {
      "image/png": "[encoded data removed]",
      "text/plain": [
       "<Figure size 460.8x403.2 with 1 Axes>"
      ]
     },
     "metadata": {},
     "output_type": "display_data"
    }
   ],
   "source": [
    "flights = sns.load_dataset(\"flights\")\n",
    "may_flights = flights.query(\"month == 'May'\")\n",
    "sns.lineplot(data=may_flights, x=\"year\", y=\"passengers\")\n"
   ]
  },
  {
   "cell_type": "code",
   "execution_count": 34,
   "id": "5a1f0f68",
   "metadata": {},
   "outputs": [
    {
     "name": "stdout",
     "output_type": "stream",
     "text": [
      "usage: jt [-h] [-l] [-t THEME] [-f MONOFONT] [-fs MONOSIZE] [-nf NBFONT]\r\n",
      "          [-nfs NBFONTSIZE] [-tf TCFONT] [-tfs TCFONTSIZE] [-dfs DFFONTSIZE]\r\n",
      "          [-ofs OUTFONTSIZE] [-mathfs MATHFONTSIZE] [-m MARGINS]\r\n",
      "          [-cursw CURSORWIDTH] [-cursc CURSORCOLOR] [-cellw CELLWIDTH]\r\n",
      "          [-lineh LINEHEIGHT] [-altp] [-altmd] [-altout] [-P] [-T] [-N] [-kl]\r\n",
      "          [-vim] [-r] [-dfonts]\r\n",
      "\r\n",
      "optional arguments:\r\n",
      "  -h, --help            show this help message and exit\r\n",
      "  -l, --list            list available themes\r\n",
      "  -t THEME, --theme THEME\r\n",
      "                        theme name to install\r\n",
      "  -f MONOFONT, --monofont MONOFONT\r\n",
      "                        monospace code font\r\n",
      "  -fs MONOSIZE, --monosize MONOSIZE\r\n",
      "                        code font-size\r\n",
      "  -nf NBFONT, --nbfont NBFONT\r\n",
      "                        notebook font\r\n",
      "  -nfs NBFONTSIZE, --nbfontsize NBFONTSIZE\r\n",
      "                        notebook fontsize\r\n",
      "  -tf TCFONT, --tcfont TCFONT\r\n",
      "                        txtcell font\r\n",
      "  -tfs TCFONTSIZE, --tcfontsize TCFONTSIZE\r\n",
      "                        txtcell fontsize\r\n",
      "  -dfs DFFONTSIZE, --dffontsize DFFONTSIZE\r\n",
      "                        pandas dataframe fontsize\r\n",
      "  -ofs OUTFONTSIZE, --outfontsize OUTFONTSIZE\r\n",
      "                        output area fontsize\r\n",
      "  -mathfs MATHFONTSIZE, --mathfontsize MATHFONTSIZE\r\n",
      "                        mathjax fontsize (in %)\r\n",
      "  -m MARGINS, --margins MARGINS\r\n",
      "                        fix margins of main intro page\r\n",
      "  -cursw CURSORWIDTH, --cursorwidth CURSORWIDTH\r\n",
      "                        set cursorwidth (px)\r\n",
      "  -cursc CURSORCOLOR, --cursorcolor CURSORCOLOR\r\n",
      "                        cursor color (r, b, g, p)\r\n",
      "  -cellw CELLWIDTH, --cellwidth CELLWIDTH\r\n",
      "                        set cell width (px or %)\r\n",
      "  -lineh LINEHEIGHT, --lineheight LINEHEIGHT\r\n",
      "                        code/text line-height (%)\r\n",
      "  -altp, --altprompt    alt input prompt style\r\n",
      "  -altmd, --altmarkdown\r\n",
      "                        alt markdown cell style\r\n",
      "  -altout, --altoutput  set output bg color to notebook bg\r\n",
      "  -P, --hideprompt      hide cell input prompt\r\n",
      "  -T, --toolbar         make toolbar visible\r\n",
      "  -N, --nbname          nb name/logo visible\r\n",
      "  -kl, --kernellogo     kernel logo visible\r\n",
      "  -vim, --vimext        toggle styles for vim\r\n",
      "  -r, --reset           reset to default theme\r\n",
      "  -dfonts, --defaultfonts\r\n",
      "                        force fonts to browser default\r\n"
     ]
    }
   ],
   "source": [
    "!jt -h"
   ]
  },
  {
   "cell_type": "code",
   "execution_count": null,
   "id": "90ffb318",
   "metadata": {},
   "outputs": [],
   "source": []
  }
 ],
 "metadata": {
  "kernelspec": {
   "display_name": "Python 3 (ipykernel)",
   "language": "python",
   "name": "python3"
  },
  "language_info": {
   "codemirror_mode": {
    "name": "ipython",
    "version": 3
   },
   "file_extension": ".py",
   "mimetype": "text/x-python",
   "name": "python",
   "nbconvert_exporter": "python",
   "pygments_lexer": "ipython3",
   "version": "3.8.10"
  }
 },
 "nbformat": 4,
 "nbformat_minor": 5
}
